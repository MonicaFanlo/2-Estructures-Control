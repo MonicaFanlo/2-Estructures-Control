{
 "cells": [
  {
   "cell_type": "markdown",
   "id": "f0a4f525",
   "metadata": {},
   "source": [
    "# Tasca M2 T02 "
   ]
  },
  {
   "cell_type": "markdown",
   "id": "8f114255",
   "metadata": {},
   "source": [
    "## Exercici 1"
   ]
  },
  {
   "cell_type": "code",
   "execution_count": 58,
   "id": "f8af9dde",
   "metadata": {},
   "outputs": [
    {
     "name": "stdout",
     "output_type": "stream",
     "text": [
      "Excel·lent\n"
     ]
    }
   ],
   "source": [
    "def classificacio(var):\n",
    "    if var > 0 and var < 5:\n",
    "        print ('Suspès')\n",
    "    elif var >= 5 and var < 7:\n",
    "        print('Aprovat')\n",
    "    elif var >=7 and var < 9:\n",
    "        print('Notable')\n",
    "    elif var >= 9:\n",
    "        print('Excel·lent')\n",
    "    else:\n",
    "        print('Nota incorrecta. Torna a introduir el valor')\n",
    "        \n",
    "classificacio (9)\n",
    "        "
   ]
  },
  {
   "cell_type": "markdown",
   "id": "7542036b",
   "metadata": {},
   "source": [
    "## Exercici 2"
   ]
  },
  {
   "cell_type": "code",
   "execution_count": 59,
   "id": "e0e4e2a4",
   "metadata": {},
   "outputs": [
    {
     "name": "stdout",
     "output_type": "stream",
     "text": [
      "Entra el primer número que vulguis:25\n",
      "Entra el segon número que vulguis:30\n",
      "El segon número és més gran\n"
     ]
    }
   ],
   "source": [
    "num1 = input('Entra el primer número que vulguis:')\n",
    "num2 = input('Entra el segon número que vulguis:')\n",
    "\n",
    "def aval(num1,num2):\n",
    "    if num1 > num2:\n",
    "        print ('El primer número és més gran')\n",
    "    elif num1 < num2:\n",
    "        print('El segon número és més gran')\n",
    "    elif num1 == num2:\n",
    "        print('Els dos número són iguals')\n",
    "        \n",
    "aval(num1,num2)"
   ]
  },
  {
   "cell_type": "markdown",
   "id": "b4c0d8c4",
   "metadata": {},
   "source": [
    "## Exercici 3"
   ]
  },
  {
   "cell_type": "code",
   "execution_count": 61,
   "id": "6e157e44",
   "metadata": {},
   "outputs": [
    {
     "name": "stdout",
     "output_type": "stream",
     "text": [
      "Quin és el teu nom? monica\n",
      "Digue'm un número: 4\n",
      "monica monica monica monica \n"
     ]
    }
   ],
   "source": [
    "nom = input('Quin és el teu nom? ')\n",
    "num = int(input(\"Digue'm un número: \"))\n",
    "\n",
    "def nom_num(nom,num):\n",
    "    if num == 0:\n",
    "        print('Aques número no és vàlid. Torna a provar')\n",
    "    else:\n",
    "        print(num*(str(nom +' ')))\n",
    "\n",
    "nom_num(nom,num)"
   ]
  },
  {
   "cell_type": "markdown",
   "id": "54a23183",
   "metadata": {},
   "source": [
    "## Exercici 4"
   ]
  },
  {
   "cell_type": "code",
   "execution_count": 64,
   "id": "af7c8888",
   "metadata": {},
   "outputs": [
    {
     "name": "stdout",
     "output_type": "stream",
     "text": [
      "La llista té 10 elements\n"
     ]
    }
   ],
   "source": [
    "lista = [1,2,3,4,5,5,4,3,2,1]\n",
    "#lista = [124, 87, 25, 1, 31, 65]\n",
    "#lista = [15, 22, 55, 22, 15]\n",
    "#lista =[1,2,3,8,9,3,2,1]\n",
    "#lista = [0,1,2,3,2,1,4]\n",
    "n = 0\n",
    "var= True\n",
    "for x in lista:\n",
    "    if lista[n] == lista[-(n+1)]:\n",
    "        n += 1\n",
    "        var= True\n",
    "    else:\n",
    "        print('La llista no és simètrica')\n",
    "        var= False\n",
    "        break\n",
    "if var == True :\n",
    "        print('La llista té', str(len(lista)), 'elements')"
   ]
  },
  {
   "cell_type": "markdown",
   "id": "943dcdc8",
   "metadata": {},
   "source": [
    "## Exercici 5"
   ]
  },
  {
   "cell_type": "code",
   "execution_count": 16,
   "id": "1d151b68",
   "metadata": {},
   "outputs": [
    {
     "name": "stdout",
     "output_type": "stream",
     "text": [
      "2 números coincideixen en la seva posició\n"
     ]
    }
   ],
   "source": [
    "lista = [3,4,2,0,2,3,6]\n",
    "\n",
    "n = 0\n",
    "cont = 0\n",
    "for x in lista:\n",
    "    if n == x:\n",
    "        cont += 1\n",
    "    n += 1\n",
    "print(cont, 'números coincideixen en la seva posició')\n"
   ]
  },
  {
   "cell_type": "code",
   "execution_count": null,
   "id": "009b6c3a",
   "metadata": {},
   "outputs": [],
   "source": []
  }
 ],
 "metadata": {
  "kernelspec": {
   "display_name": "Python 3 (ipykernel)",
   "language": "python",
   "name": "python3"
  },
  "language_info": {
   "codemirror_mode": {
    "name": "ipython",
    "version": 3
   },
   "file_extension": ".py",
   "mimetype": "text/x-python",
   "name": "python",
   "nbconvert_exporter": "python",
   "pygments_lexer": "ipython3",
   "version": "3.9.12"
  }
 },
 "nbformat": 4,
 "nbformat_minor": 5
}
